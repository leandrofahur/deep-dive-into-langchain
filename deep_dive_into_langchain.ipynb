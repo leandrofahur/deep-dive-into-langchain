{
  "cells": [
    {
      "cell_type": "markdown",
      "source": [
        "# LangChain\n",
        "\n",
        "LangChain is a framework that enable programmers to develop LLM applications with different providers such as ChatGPT, Anthropic, Gemini, and others.\n",
        "\n",
        "The tool provides us a simple approach for development, productionization, and deployment.\n",
        "\n",
        "For the sake of simplicity, I will be implementing an Agent with the role of a business analytics with the goal to define an ICP (Ideal Customer Profile).\n",
        "\n",
        "Read more about it on the folowing [link](https://python.langchain.com/docs/introduction/)\n",
        ""
      ],
      "metadata": {
        "id": "K1w4TqTNC3-L"
      }
    },
    {
      "cell_type": "code",
      "source": [
        "# Install the necessary libs:\n",
        "!pip install langchain_openai -q"
      ],
      "metadata": {
        "colab": {
          "base_uri": "https://localhost:8080/"
        },
        "id": "kJkn8uEZCwi6",
        "outputId": "8870da19-ab38-4a00-cc75-b4d9258890c1"
      },
      "execution_count": 2,
      "outputs": [
        {
          "output_type": "stream",
          "name": "stdout",
          "text": [
            "\u001b[?25l   \u001b[90m━━━━━━━━━━━━━━━━━━━━━━━━━━━━━━━━━━━━━━━━\u001b[0m \u001b[32m0.0/62.4 kB\u001b[0m \u001b[31m?\u001b[0m eta \u001b[36m-:--:--\u001b[0m\r\u001b[2K   \u001b[90m━━━━━━━━━━━━━━━━━━━━━━━━━━━━━━━━━━━━━━━━\u001b[0m \u001b[32m62.4/62.4 kB\u001b[0m \u001b[31m2.7 MB/s\u001b[0m eta \u001b[36m0:00:00\u001b[0m\n",
            "\u001b[?25h\u001b[?25l   \u001b[90m━━━━━━━━━━━━━━━━━━━━━━━━━━━━━━━━━━━━━━━━\u001b[0m \u001b[32m0.0/1.2 MB\u001b[0m \u001b[31m?\u001b[0m eta \u001b[36m-:--:--\u001b[0m\r\u001b[2K   \u001b[91m━━━━━━━━━━━━━━━━━━━━━━━━━━━━━━━━━━━━━━━\u001b[0m\u001b[91m╸\u001b[0m \u001b[32m1.2/1.2 MB\u001b[0m \u001b[31m41.1 MB/s\u001b[0m eta \u001b[36m0:00:01\u001b[0m\r\u001b[2K   \u001b[90m━━━━━━━━━━━━━━━━━━━━━━━━━━━━━━━━━━━━━━━━\u001b[0m \u001b[32m1.2/1.2 MB\u001b[0m \u001b[31m26.3 MB/s\u001b[0m eta \u001b[36m0:00:00\u001b[0m\n",
            "\u001b[?25h"
          ]
        }
      ]
    },
    {
      "cell_type": "code",
      "source": [
        "# Import the necessary libs:\n",
        "import os\n",
        "\n",
        "import pandas as pd\n",
        "from matplotlib import pyplot as plt\n",
        "from IPython.display import display, Markdown, HTML\n",
        "import re\n",
        "\n",
        "from langchain_openai import ChatOpenAI\n",
        "from langchain.prompts import ChatPromptTemplate\n",
        "from langchain.chains import LLMChain\n",
        "from langchain.schema import HumanMessage, SystemMessage, AIMessage   # https://platform.openai.com/docs/guides/text?api-mode=responses"
      ],
      "metadata": {
        "id": "zwzZoaNhEZeJ"
      },
      "execution_count": 34,
      "outputs": []
    },
    {
      "cell_type": "code",
      "source": [
        "# Configure the API key from your provider:\n",
        "from google.colab import userdata\n",
        "openai_api_key = userdata.get('OPENAI_API_KEY')\n",
        "\n",
        "if not openai_api_key:\n",
        "  key = input('Insert your own OpenAI API key')\n",
        "  openai_api_key = key\n",
        "\n",
        "  if not openai_api_key:\n",
        "    raise ValueError('OpenAI API key not found')\n",
        "\n",
        "else:\n",
        "  print('OpenAI API key found')"
      ],
      "metadata": {
        "colab": {
          "base_uri": "https://localhost:8080/"
        },
        "id": "ocPQynIiCwf0",
        "outputId": "9e3eb198-2ae3-47e6-c432-1dc110445f69"
      },
      "execution_count": 4,
      "outputs": [
        {
          "output_type": "stream",
          "name": "stdout",
          "text": [
            "OpenAI API key found\n"
          ]
        }
      ]
    },
    {
      "cell_type": "markdown",
      "source": [
        "# 🧠 Section: Business Analyst Agent - Ideal Customer Profile (ICP)\n",
        "\n",
        "## Goal:\n",
        "Build a simple Agent using LangChain. We define:\n",
        "\n",
        "- **Role**: Business Analyst\n",
        "- **Objective**: Generate the Ideal Customer Profile based on real business/customer data.\n",
        "- **Inputs**: User input a spreadsheet.\n",
        "- **Output**: A structured ICP profile.\n",
        "\n",
        "---\n",
        "\n",
        "## Steps:\n",
        "\n",
        "1. Retrieve the data and check if the document needs some data preprocessing.\n",
        "2. Create the system prompt for our agent\n",
        "3. Configure the llm with the propper model and temerture\n",
        "4. Generate the prompt template responsible to \"set\" the agent core function\n",
        "5. Prepare the business analytis chain\n",
        "6. Properly format the csv to be inested by the LLM.\n",
        "7. Call the agent to process the data and return its findings."
      ],
      "metadata": {
        "id": "SzduhjjImv_o"
      }
    },
    {
      "cell_type": "code",
      "source": [
        "# Import the mock dataset for ShopMax:\n",
        "df = pd.read_csv('./shopmax_customers.csv')\n",
        "df.head(5)"
      ],
      "metadata": {
        "colab": {
          "base_uri": "https://localhost:8080/",
          "height": 206
        },
        "id": "OfDp9TQnEOHk",
        "outputId": "71102f58-1206-4fb3-bbd1-0f4f268da61b"
      },
      "execution_count": 7,
      "outputs": [
        {
          "output_type": "execute_result",
          "data": {
            "text/plain": [
              "  Customer ID  Country   Plan  Monthly Spend ($)  Tenure (Months) Churned  \\\n",
              "0   CUST00001   France  Basic              24.44               19      No   \n",
              "1   CUST00002   France  Basic              31.59               53      No   \n",
              "2   CUST00003   Canada    Pro              75.31               60      No   \n",
              "3   CUST00004   France  Basic              32.71               22     Yes   \n",
              "4   CUST00005  Germany  Basic              17.80               28      No   \n",
              "\n",
              "  Signup Source    Industry Last Active Date  \n",
              "0       Organic      Retail       2025-04-03  \n",
              "1      Referral     Finance       2025-04-06  \n",
              "2      Paid Ads      Retail       2025-04-10  \n",
              "3       Organic  Technology       2025-03-29  \n",
              "4       Organic      Retail       2025-04-14  "
            ],
            "text/html": [
              "\n",
              "  <div id=\"df-ec123d68-c47e-4570-b811-31d5a3c72db4\" class=\"colab-df-container\">\n",
              "    <div>\n",
              "<style scoped>\n",
              "    .dataframe tbody tr th:only-of-type {\n",
              "        vertical-align: middle;\n",
              "    }\n",
              "\n",
              "    .dataframe tbody tr th {\n",
              "        vertical-align: top;\n",
              "    }\n",
              "\n",
              "    .dataframe thead th {\n",
              "        text-align: right;\n",
              "    }\n",
              "</style>\n",
              "<table border=\"1\" class=\"dataframe\">\n",
              "  <thead>\n",
              "    <tr style=\"text-align: right;\">\n",
              "      <th></th>\n",
              "      <th>Customer ID</th>\n",
              "      <th>Country</th>\n",
              "      <th>Plan</th>\n",
              "      <th>Monthly Spend ($)</th>\n",
              "      <th>Tenure (Months)</th>\n",
              "      <th>Churned</th>\n",
              "      <th>Signup Source</th>\n",
              "      <th>Industry</th>\n",
              "      <th>Last Active Date</th>\n",
              "    </tr>\n",
              "  </thead>\n",
              "  <tbody>\n",
              "    <tr>\n",
              "      <th>0</th>\n",
              "      <td>CUST00001</td>\n",
              "      <td>France</td>\n",
              "      <td>Basic</td>\n",
              "      <td>24.44</td>\n",
              "      <td>19</td>\n",
              "      <td>No</td>\n",
              "      <td>Organic</td>\n",
              "      <td>Retail</td>\n",
              "      <td>2025-04-03</td>\n",
              "    </tr>\n",
              "    <tr>\n",
              "      <th>1</th>\n",
              "      <td>CUST00002</td>\n",
              "      <td>France</td>\n",
              "      <td>Basic</td>\n",
              "      <td>31.59</td>\n",
              "      <td>53</td>\n",
              "      <td>No</td>\n",
              "      <td>Referral</td>\n",
              "      <td>Finance</td>\n",
              "      <td>2025-04-06</td>\n",
              "    </tr>\n",
              "    <tr>\n",
              "      <th>2</th>\n",
              "      <td>CUST00003</td>\n",
              "      <td>Canada</td>\n",
              "      <td>Pro</td>\n",
              "      <td>75.31</td>\n",
              "      <td>60</td>\n",
              "      <td>No</td>\n",
              "      <td>Paid Ads</td>\n",
              "      <td>Retail</td>\n",
              "      <td>2025-04-10</td>\n",
              "    </tr>\n",
              "    <tr>\n",
              "      <th>3</th>\n",
              "      <td>CUST00004</td>\n",
              "      <td>France</td>\n",
              "      <td>Basic</td>\n",
              "      <td>32.71</td>\n",
              "      <td>22</td>\n",
              "      <td>Yes</td>\n",
              "      <td>Organic</td>\n",
              "      <td>Technology</td>\n",
              "      <td>2025-03-29</td>\n",
              "    </tr>\n",
              "    <tr>\n",
              "      <th>4</th>\n",
              "      <td>CUST00005</td>\n",
              "      <td>Germany</td>\n",
              "      <td>Basic</td>\n",
              "      <td>17.80</td>\n",
              "      <td>28</td>\n",
              "      <td>No</td>\n",
              "      <td>Organic</td>\n",
              "      <td>Retail</td>\n",
              "      <td>2025-04-14</td>\n",
              "    </tr>\n",
              "  </tbody>\n",
              "</table>\n",
              "</div>\n",
              "    <div class=\"colab-df-buttons\">\n",
              "\n",
              "  <div class=\"colab-df-container\">\n",
              "    <button class=\"colab-df-convert\" onclick=\"convertToInteractive('df-ec123d68-c47e-4570-b811-31d5a3c72db4')\"\n",
              "            title=\"Convert this dataframe to an interactive table.\"\n",
              "            style=\"display:none;\">\n",
              "\n",
              "  <svg xmlns=\"http://www.w3.org/2000/svg\" height=\"24px\" viewBox=\"0 -960 960 960\">\n",
              "    <path d=\"M120-120v-720h720v720H120Zm60-500h600v-160H180v160Zm220 220h160v-160H400v160Zm0 220h160v-160H400v160ZM180-400h160v-160H180v160Zm440 0h160v-160H620v160ZM180-180h160v-160H180v160Zm440 0h160v-160H620v160Z\"/>\n",
              "  </svg>\n",
              "    </button>\n",
              "\n",
              "  <style>\n",
              "    .colab-df-container {\n",
              "      display:flex;\n",
              "      gap: 12px;\n",
              "    }\n",
              "\n",
              "    .colab-df-convert {\n",
              "      background-color: #E8F0FE;\n",
              "      border: none;\n",
              "      border-radius: 50%;\n",
              "      cursor: pointer;\n",
              "      display: none;\n",
              "      fill: #1967D2;\n",
              "      height: 32px;\n",
              "      padding: 0 0 0 0;\n",
              "      width: 32px;\n",
              "    }\n",
              "\n",
              "    .colab-df-convert:hover {\n",
              "      background-color: #E2EBFA;\n",
              "      box-shadow: 0px 1px 2px rgba(60, 64, 67, 0.3), 0px 1px 3px 1px rgba(60, 64, 67, 0.15);\n",
              "      fill: #174EA6;\n",
              "    }\n",
              "\n",
              "    .colab-df-buttons div {\n",
              "      margin-bottom: 4px;\n",
              "    }\n",
              "\n",
              "    [theme=dark] .colab-df-convert {\n",
              "      background-color: #3B4455;\n",
              "      fill: #D2E3FC;\n",
              "    }\n",
              "\n",
              "    [theme=dark] .colab-df-convert:hover {\n",
              "      background-color: #434B5C;\n",
              "      box-shadow: 0px 1px 3px 1px rgba(0, 0, 0, 0.15);\n",
              "      filter: drop-shadow(0px 1px 2px rgba(0, 0, 0, 0.3));\n",
              "      fill: #FFFFFF;\n",
              "    }\n",
              "  </style>\n",
              "\n",
              "    <script>\n",
              "      const buttonEl =\n",
              "        document.querySelector('#df-ec123d68-c47e-4570-b811-31d5a3c72db4 button.colab-df-convert');\n",
              "      buttonEl.style.display =\n",
              "        google.colab.kernel.accessAllowed ? 'block' : 'none';\n",
              "\n",
              "      async function convertToInteractive(key) {\n",
              "        const element = document.querySelector('#df-ec123d68-c47e-4570-b811-31d5a3c72db4');\n",
              "        const dataTable =\n",
              "          await google.colab.kernel.invokeFunction('convertToInteractive',\n",
              "                                                    [key], {});\n",
              "        if (!dataTable) return;\n",
              "\n",
              "        const docLinkHtml = 'Like what you see? Visit the ' +\n",
              "          '<a target=\"_blank\" href=https://colab.research.google.com/notebooks/data_table.ipynb>data table notebook</a>'\n",
              "          + ' to learn more about interactive tables.';\n",
              "        element.innerHTML = '';\n",
              "        dataTable['output_type'] = 'display_data';\n",
              "        await google.colab.output.renderOutput(dataTable, element);\n",
              "        const docLink = document.createElement('div');\n",
              "        docLink.innerHTML = docLinkHtml;\n",
              "        element.appendChild(docLink);\n",
              "      }\n",
              "    </script>\n",
              "  </div>\n",
              "\n",
              "\n",
              "    <div id=\"df-81f8dcf0-a2af-4e33-8f01-3c64ee2f2800\">\n",
              "      <button class=\"colab-df-quickchart\" onclick=\"quickchart('df-81f8dcf0-a2af-4e33-8f01-3c64ee2f2800')\"\n",
              "                title=\"Suggest charts\"\n",
              "                style=\"display:none;\">\n",
              "\n",
              "<svg xmlns=\"http://www.w3.org/2000/svg\" height=\"24px\"viewBox=\"0 0 24 24\"\n",
              "     width=\"24px\">\n",
              "    <g>\n",
              "        <path d=\"M19 3H5c-1.1 0-2 .9-2 2v14c0 1.1.9 2 2 2h14c1.1 0 2-.9 2-2V5c0-1.1-.9-2-2-2zM9 17H7v-7h2v7zm4 0h-2V7h2v10zm4 0h-2v-4h2v4z\"/>\n",
              "    </g>\n",
              "</svg>\n",
              "      </button>\n",
              "\n",
              "<style>\n",
              "  .colab-df-quickchart {\n",
              "      --bg-color: #E8F0FE;\n",
              "      --fill-color: #1967D2;\n",
              "      --hover-bg-color: #E2EBFA;\n",
              "      --hover-fill-color: #174EA6;\n",
              "      --disabled-fill-color: #AAA;\n",
              "      --disabled-bg-color: #DDD;\n",
              "  }\n",
              "\n",
              "  [theme=dark] .colab-df-quickchart {\n",
              "      --bg-color: #3B4455;\n",
              "      --fill-color: #D2E3FC;\n",
              "      --hover-bg-color: #434B5C;\n",
              "      --hover-fill-color: #FFFFFF;\n",
              "      --disabled-bg-color: #3B4455;\n",
              "      --disabled-fill-color: #666;\n",
              "  }\n",
              "\n",
              "  .colab-df-quickchart {\n",
              "    background-color: var(--bg-color);\n",
              "    border: none;\n",
              "    border-radius: 50%;\n",
              "    cursor: pointer;\n",
              "    display: none;\n",
              "    fill: var(--fill-color);\n",
              "    height: 32px;\n",
              "    padding: 0;\n",
              "    width: 32px;\n",
              "  }\n",
              "\n",
              "  .colab-df-quickchart:hover {\n",
              "    background-color: var(--hover-bg-color);\n",
              "    box-shadow: 0 1px 2px rgba(60, 64, 67, 0.3), 0 1px 3px 1px rgba(60, 64, 67, 0.15);\n",
              "    fill: var(--button-hover-fill-color);\n",
              "  }\n",
              "\n",
              "  .colab-df-quickchart-complete:disabled,\n",
              "  .colab-df-quickchart-complete:disabled:hover {\n",
              "    background-color: var(--disabled-bg-color);\n",
              "    fill: var(--disabled-fill-color);\n",
              "    box-shadow: none;\n",
              "  }\n",
              "\n",
              "  .colab-df-spinner {\n",
              "    border: 2px solid var(--fill-color);\n",
              "    border-color: transparent;\n",
              "    border-bottom-color: var(--fill-color);\n",
              "    animation:\n",
              "      spin 1s steps(1) infinite;\n",
              "  }\n",
              "\n",
              "  @keyframes spin {\n",
              "    0% {\n",
              "      border-color: transparent;\n",
              "      border-bottom-color: var(--fill-color);\n",
              "      border-left-color: var(--fill-color);\n",
              "    }\n",
              "    20% {\n",
              "      border-color: transparent;\n",
              "      border-left-color: var(--fill-color);\n",
              "      border-top-color: var(--fill-color);\n",
              "    }\n",
              "    30% {\n",
              "      border-color: transparent;\n",
              "      border-left-color: var(--fill-color);\n",
              "      border-top-color: var(--fill-color);\n",
              "      border-right-color: var(--fill-color);\n",
              "    }\n",
              "    40% {\n",
              "      border-color: transparent;\n",
              "      border-right-color: var(--fill-color);\n",
              "      border-top-color: var(--fill-color);\n",
              "    }\n",
              "    60% {\n",
              "      border-color: transparent;\n",
              "      border-right-color: var(--fill-color);\n",
              "    }\n",
              "    80% {\n",
              "      border-color: transparent;\n",
              "      border-right-color: var(--fill-color);\n",
              "      border-bottom-color: var(--fill-color);\n",
              "    }\n",
              "    90% {\n",
              "      border-color: transparent;\n",
              "      border-bottom-color: var(--fill-color);\n",
              "    }\n",
              "  }\n",
              "</style>\n",
              "\n",
              "      <script>\n",
              "        async function quickchart(key) {\n",
              "          const quickchartButtonEl =\n",
              "            document.querySelector('#' + key + ' button');\n",
              "          quickchartButtonEl.disabled = true;  // To prevent multiple clicks.\n",
              "          quickchartButtonEl.classList.add('colab-df-spinner');\n",
              "          try {\n",
              "            const charts = await google.colab.kernel.invokeFunction(\n",
              "                'suggestCharts', [key], {});\n",
              "          } catch (error) {\n",
              "            console.error('Error during call to suggestCharts:', error);\n",
              "          }\n",
              "          quickchartButtonEl.classList.remove('colab-df-spinner');\n",
              "          quickchartButtonEl.classList.add('colab-df-quickchart-complete');\n",
              "        }\n",
              "        (() => {\n",
              "          let quickchartButtonEl =\n",
              "            document.querySelector('#df-81f8dcf0-a2af-4e33-8f01-3c64ee2f2800 button');\n",
              "          quickchartButtonEl.style.display =\n",
              "            google.colab.kernel.accessAllowed ? 'block' : 'none';\n",
              "        })();\n",
              "      </script>\n",
              "    </div>\n",
              "\n",
              "    </div>\n",
              "  </div>\n"
            ],
            "application/vnd.google.colaboratory.intrinsic+json": {
              "type": "dataframe",
              "variable_name": "df",
              "summary": "{\n  \"name\": \"df\",\n  \"rows\": 1000,\n  \"fields\": [\n    {\n      \"column\": \"Customer ID\",\n      \"properties\": {\n        \"dtype\": \"string\",\n        \"num_unique_values\": 1000,\n        \"samples\": [\n          \"CUST00522\",\n          \"CUST00738\",\n          \"CUST00741\"\n        ],\n        \"semantic_type\": \"\",\n        \"description\": \"\"\n      }\n    },\n    {\n      \"column\": \"Country\",\n      \"properties\": {\n        \"dtype\": \"category\",\n        \"num_unique_values\": 7,\n        \"samples\": [\n          \"France\",\n          \"Canada\",\n          \"Brazil\"\n        ],\n        \"semantic_type\": \"\",\n        \"description\": \"\"\n      }\n    },\n    {\n      \"column\": \"Plan\",\n      \"properties\": {\n        \"dtype\": \"category\",\n        \"num_unique_values\": 3,\n        \"samples\": [\n          \"Basic\",\n          \"Pro\",\n          \"Enterprise\"\n        ],\n        \"semantic_type\": \"\",\n        \"description\": \"\"\n      }\n    },\n    {\n      \"column\": \"Monthly Spend ($)\",\n      \"properties\": {\n        \"dtype\": \"number\",\n        \"std\": 80.9297989973369,\n        \"min\": 15.6,\n        \"max\": 387.7,\n        \"num_unique_values\": 882,\n        \"samples\": [\n          39.67,\n          27.35,\n          28.3\n        ],\n        \"semantic_type\": \"\",\n        \"description\": \"\"\n      }\n    },\n    {\n      \"column\": \"Tenure (Months)\",\n      \"properties\": {\n        \"dtype\": \"number\",\n        \"std\": 17,\n        \"min\": 1,\n        \"max\": 60,\n        \"num_unique_values\": 60,\n        \"samples\": [\n          19,\n          47,\n          29\n        ],\n        \"semantic_type\": \"\",\n        \"description\": \"\"\n      }\n    },\n    {\n      \"column\": \"Churned\",\n      \"properties\": {\n        \"dtype\": \"category\",\n        \"num_unique_values\": 2,\n        \"samples\": [\n          \"Yes\",\n          \"No\"\n        ],\n        \"semantic_type\": \"\",\n        \"description\": \"\"\n      }\n    },\n    {\n      \"column\": \"Signup Source\",\n      \"properties\": {\n        \"dtype\": \"category\",\n        \"num_unique_values\": 4,\n        \"samples\": [\n          \"Referral\",\n          \"Partner\"\n        ],\n        \"semantic_type\": \"\",\n        \"description\": \"\"\n      }\n    },\n    {\n      \"column\": \"Industry\",\n      \"properties\": {\n        \"dtype\": \"category\",\n        \"num_unique_values\": 5,\n        \"samples\": [\n          \"Finance\",\n          \"Education\"\n        ],\n        \"semantic_type\": \"\",\n        \"description\": \"\"\n      }\n    },\n    {\n      \"column\": \"Last Active Date\",\n      \"properties\": {\n        \"dtype\": \"object\",\n        \"num_unique_values\": 60,\n        \"samples\": [\n          \"2025-04-03\",\n          \"2025-04-01\"\n        ],\n        \"semantic_type\": \"\",\n        \"description\": \"\"\n      }\n    }\n  ]\n}"
            }
          },
          "metadata": {},
          "execution_count": 7
        }
      ]
    },
    {
      "cell_type": "code",
      "source": [
        "system_prompt = \"\"\"\n",
        "You are a Business Analyst for ShopMax, an e-commerce company.\n",
        "\n",
        "Your task:\n",
        "- Analyze the customer dataset provided.\n",
        "- Return your findings using a VERY STRICT structure exactly as described below.\n",
        "\n",
        "STRICT FORMAT:\n",
        "\n",
        "1. Each section must start with this format:\n",
        "## Section: [Title]\n",
        "\n",
        "2. After each section's findings, insert the chart instruction:\n",
        "## Chart: [chart_identifier]\n",
        "\n",
        "Allowed chart identifiers:\n",
        "- plan_distribution\n",
        "- churn_rate_by_plan\n",
        "- spend_vs_tenure\n",
        "- top_countries\n",
        "- signup_sources (optional)\n",
        "- industry_distribution (optional)\n",
        "\n",
        "3. DO NOT write extra explanations, transitions, or commentary between sections or charts.\n",
        "\n",
        "4. Only use bullet points (-) under each ## Section:, no freeform text.\n",
        "\n",
        "5. After all sections, add a final section:\n",
        "## Section: Final Conclusion\n",
        "\n",
        "Example:\n",
        "\n",
        "## Section: Subscription Plans\n",
        "- Basic Plan: 60% of customers\n",
        "- Pro Plan: 30% of customers\n",
        "- Enterprise Plan: 10% of customers\n",
        "\n",
        "## Chart: plan_distribution\n",
        "\n",
        "## Section: Financial Insights\n",
        "- Average Spend: $72.74\n",
        "- Churn Rate: 6.7%\n",
        "\n",
        "## Chart: churn_rate_by_plan\n",
        "\n",
        "(and so on...)\n",
        "\n",
        "IF YOU DO NOT FOLLOW THIS STRUCTURE 100%, THE OUTPUT WILL BE REJECTED.\n",
        "\"\"\""
      ],
      "metadata": {
        "id": "R014cNn5q0am"
      },
      "execution_count": 46,
      "outputs": []
    },
    {
      "cell_type": "code",
      "source": [
        "# Create and configure the chatgpt llm:\n",
        "\n",
        "llm = ChatOpenAI(model='gpt-4o', temperature=0.25, api_key=openai_api_key)"
      ],
      "metadata": {
        "id": "zNHK_mQJrVov"
      },
      "execution_count": 47,
      "outputs": []
    },
    {
      "cell_type": "code",
      "source": [
        "# Generate the prompt template:\n",
        "\n",
        "prompt_template = ChatPromptTemplate.from_messages([\n",
        "    (\"system\", system_prompt),\n",
        "    (\"human\", \"{input}\")\n",
        "])"
      ],
      "metadata": {
        "id": "mojukbrhrVln"
      },
      "execution_count": 48,
      "outputs": []
    },
    {
      "cell_type": "code",
      "source": [
        "# Prepare the LLM chain:\n",
        "\n",
        "business_analyst_chain = LLMChain(\n",
        "    llm=llm,\n",
        "    prompt=prompt_template\n",
        ")"
      ],
      "metadata": {
        "id": "YktjvAT4rVhm"
      },
      "execution_count": 49,
      "outputs": []
    },
    {
      "cell_type": "code",
      "source": [
        "# Formating the dataset into readable string:\n",
        "# Important columns (Plan, Spend, Tenure, Churn, ...)\n",
        "# Aggregated insights (average, spend, churn rates, distributions, ...)\n",
        "\n",
        "def summarize_customer_data(df):\n",
        "    summary = \"\"\n",
        "\n",
        "    # General info:\n",
        "    summary += f\"Total customers: {len(df)}\\n\\n\"\n",
        "\n",
        "    # Plan distribution:\n",
        "    plan_counts = df['Plan'].value_counts(normalize=True) * 100\n",
        "    summary += \"Plan Distribution (%):\\n\"\n",
        "    summary += plan_counts.round(2).to_string()\n",
        "    summary += \"\\n\\n\"\n",
        "\n",
        "    # Monthly spend statistics:\n",
        "    spend_mean = df['Monthly Spend ($)'].mean()\n",
        "    summary += f\"Average Monthly Spend: ${spend_mean:.2f}\\n\\n\"\n",
        "\n",
        "    # Tenure statistics:\n",
        "    tenure_mean = df['Tenure (Months)'].mean()\n",
        "    summary += f\"Average Customer Tenure: {tenure_mean:.1f} months\\n\\n\"\n",
        "\n",
        "    # Churn rate:\n",
        "    churn_rate = (df['Churned'] == 'Yes').mean() * 100\n",
        "    summary += f\"Churn Rate: {churn_rate:.2f}%\\n\\n\"\n",
        "\n",
        "    # Country distribution:\n",
        "    country_counts = df['Country'].value_counts().head(5)\n",
        "    summary += \"Top 5 Countries:\\n\"\n",
        "    summary += country_counts.to_string()\n",
        "    summary += \"\\n\\n\"\n",
        "\n",
        "    # Signup source distribution:\n",
        "    signup_counts = df['Signup Source'].value_counts().head(3)\n",
        "    summary += \"Top Signup Sources:\\n\"\n",
        "    summary += signup_counts.to_string()\n",
        "    summary += \"\\n\\n\"\n",
        "\n",
        "    # Industry distribution:\n",
        "    industry_counts = df['Industry'].value_counts().head(5)\n",
        "    summary += \"Top 5 Industries:\\n\"\n",
        "    summary += industry_counts.to_string()\n",
        "\n",
        "    return summary\n",
        "\n",
        "# Generate the summarized input:\n",
        "customer_summary_input = summarize_customer_data(df)\n",
        "\n",
        "# Preview:\n",
        "print(customer_summary_input)"
      ],
      "metadata": {
        "colab": {
          "base_uri": "https://localhost:8080/"
        },
        "id": "hHmAcQb5rVa_",
        "outputId": "293f957f-6a41-493c-b6bd-05003a1c784e"
      },
      "execution_count": 50,
      "outputs": [
        {
          "output_type": "stream",
          "name": "stdout",
          "text": [
            "Total customers: 1000\n",
            "\n",
            "Plan Distribution (%):\n",
            "Plan\n",
            "Basic         59.9\n",
            "Pro           29.7\n",
            "Enterprise    10.4\n",
            "\n",
            "Average Monthly Spend: $72.74\n",
            "\n",
            "Average Customer Tenure: 30.9 months\n",
            "\n",
            "Churn Rate: 6.70%\n",
            "\n",
            "Top 5 Countries:\n",
            "Country\n",
            "UK        150\n",
            "Brazil    147\n",
            "USA       145\n",
            "France    142\n",
            "Canada    141\n",
            "\n",
            "Top Signup Sources:\n",
            "Signup Source\n",
            "Partner     275\n",
            "Referral    252\n",
            "Paid Ads    241\n",
            "\n",
            "Top 5 Industries:\n",
            "Industry\n",
            "Technology    210\n",
            "Healthcare    209\n",
            "Education     202\n",
            "Retail        191\n",
            "Finance       188\n"
          ]
        }
      ]
    },
    {
      "cell_type": "code",
      "source": [
        "# Call the Business Analyst Agent with the summarized customer data\n",
        "\n",
        "# Prepare input dictionary:\n",
        "input_data = {\n",
        "    \"input\": customer_summary_input\n",
        "}\n",
        "\n",
        "# Run the chain:\n",
        "icp_report = business_analyst_chain.invoke(input_data)\n",
        "\n",
        "# Show the generated ICP:\n",
        "# print(icp_report['text'])"
      ],
      "metadata": {
        "id": "Y9Cl4OUSrVQ4"
      },
      "execution_count": 51,
      "outputs": []
    },
    {
      "cell_type": "markdown",
      "source": [
        "Generate charts to complement the findings:\n",
        "\n",
        "📊 Plan distribution pie chart\n",
        "\n",
        "📈 Spend vs. Tenure scatter plot (to show customer lifetime value)\n",
        "\n",
        "📉 Churn rates by plan bar chart\n",
        "\n",
        "🌍 Top countries bar chart\n",
        "\n"
      ],
      "metadata": {
        "id": "OAczP0FWt9h5"
      }
    },
    {
      "cell_type": "code",
      "source": [
        "def plot_plan_distribution(df):\n",
        "    plan_counts = df['Plan'].value_counts()\n",
        "    plt.figure(figsize=(6,6))\n",
        "    plt.pie(plan_counts, labels=plan_counts.index, autopct='%1.1f%%', startangle=140)\n",
        "    plt.title('Subscription Plan Distribution')\n",
        "    plt.show()"
      ],
      "metadata": {
        "id": "miuOqy2Zt7Nh"
      },
      "execution_count": 52,
      "outputs": []
    },
    {
      "cell_type": "code",
      "source": [
        "def plot_churn_rate_by_plan(df):\n",
        "    churn_data = df[df['Churned'] == 'Yes']['Plan'].value_counts()\n",
        "    plt.figure(figsize=(8,5))\n",
        "    churn_data.plot(kind='bar', color='skyblue')\n",
        "    plt.title('Churn Rate by Subscription Plan')\n",
        "    plt.xlabel('Plan')\n",
        "    plt.ylabel('Number of Churned Customers')\n",
        "    plt.xticks(rotation=0)\n",
        "    plt.show()"
      ],
      "metadata": {
        "id": "ly2OZB-Ytm_q"
      },
      "execution_count": 53,
      "outputs": []
    },
    {
      "cell_type": "code",
      "source": [
        "def plot_spend_vs_tenure(df):\n",
        "    plt.figure(figsize=(8,6))\n",
        "    plt.scatter(df['Tenure (Months)'], df['Monthly Spend ($)'], alpha=0.6)\n",
        "    plt.title('Monthly Spend vs. Tenure')\n",
        "    plt.xlabel('Tenure (Months)')\n",
        "    plt.ylabel('Monthly Spend ($)')\n",
        "    plt.grid(True)\n",
        "    plt.show()"
      ],
      "metadata": {
        "id": "rvp4ubJev0l8"
      },
      "execution_count": 54,
      "outputs": []
    },
    {
      "cell_type": "code",
      "source": [
        "def plot_top_countries(df):\n",
        "    country_counts = df['Country'].value_counts().head(5)\n",
        "    plt.figure(figsize=(8,5))\n",
        "    country_counts.plot(kind='bar', color='lightgreen')\n",
        "    plt.title('Top 5 Countries by Customer Count')\n",
        "    plt.xlabel('Country')\n",
        "    plt.ylabel('Number of Customers')\n",
        "    plt.xticks(rotation=45)\n",
        "    plt.show()"
      ],
      "metadata": {
        "id": "ZCMAqZSEv2cr"
      },
      "execution_count": 55,
      "outputs": []
    },
    {
      "cell_type": "code",
      "source": [
        "def plot_signup_sources(df):\n",
        "    signup_counts = df['Signup Source'].value_counts()\n",
        "    plt.style.use('seaborn-whitegrid')\n",
        "    plt.figure(figsize=(8,5))\n",
        "    signup_counts.plot(kind='bar', color='lightcoral')\n",
        "    plt.title('Signup Sources Distribution', fontsize=16)\n",
        "    plt.xlabel('Signup Source')\n",
        "    plt.ylabel('Number of Customers')\n",
        "    plt.xticks(rotation=45)\n",
        "    plt.grid(True)\n",
        "    plt.show()"
      ],
      "metadata": {
        "id": "7Kl64NaF2PS-"
      },
      "execution_count": 57,
      "outputs": []
    },
    {
      "cell_type": "code",
      "source": [
        "def plot_industry_distribution(df):\n",
        "    industry_counts = df['Industry'].value_counts()\n",
        "    plt.style.use('seaborn-whitegrid')\n",
        "    plt.figure(figsize=(8,5))\n",
        "    industry_counts.plot(kind='bar', color='mediumseagreen')\n",
        "    plt.title('Industry Distribution', fontsize=16)\n",
        "    plt.xlabel('Industry')\n",
        "    plt.ylabel('Number of Customers')\n",
        "    plt.xticks(rotation=45)\n",
        "    plt.grid(True)\n",
        "    plt.show()"
      ],
      "metadata": {
        "id": "4itOk6Xp2QL9"
      },
      "execution_count": 58,
      "outputs": []
    },
    {
      "cell_type": "code",
      "source": [
        "def generate_graph_insight(topic: str):\n",
        "    insight_prompt = f\"\"\"\n",
        "        You are a Business Analyst reviewing a chart about {topic}.\n",
        "\n",
        "        Write 2-4 concise sentences providing a professional insight based on the data.\n",
        "\n",
        "        Be specific and actionable, like you are preparing a report for executives.\n",
        "        Do not mention the chart itself (\"the chart shows\"). Focus on insights directly.\n",
        "\n",
        "        Example:\n",
        "        \"Most customers prefer the Pro plan, suggesting a mid-tier pricing strategy aligns with market expectations.\"\n",
        "\n",
        "        Strictly output only the insight.\"\"\"\n",
        "\n",
        "    response = llm.invoke(insight_prompt)\n",
        "    return response.content.strip()"
      ],
      "metadata": {
        "id": "QjJ0YZKd25k7"
      },
      "execution_count": 61,
      "outputs": []
    },
    {
      "cell_type": "code",
      "source": [
        "def generate_final_icp_summary(summary_input: str):\n",
        "    icp_prompt = f\"\"\"\n",
        "        You are a Business Analyst for ShopMax.\n",
        "\n",
        "        Based on the following findings across subscription plans, churn rates, spend vs tenure, top countries, signup sources, and industries, write a **Final Ideal Customer Profile (ICP)**.\n",
        "\n",
        "        Format:\n",
        "        - Summarize who is the ideal customer (demographics, subscription plan, spending behavior, tenure).\n",
        "        - Explain which signup sources and industries are the best targets.\n",
        "        - Conclude with a short strategic recommendation.\n",
        "\n",
        "        Findings:\n",
        "        {summary_input}\n",
        "\n",
        "        Respond very clearly and professionally, in 5-8 concise bullet points followed by a short conclusion.\"\"\"\n",
        "    response = llm.invoke(icp_prompt)\n",
        "    return response.content.strip()"
      ],
      "metadata": {
        "id": "FinDcUkB4KRI"
      },
      "execution_count": 68,
      "outputs": []
    },
    {
      "cell_type": "code",
      "source": [
        "try:\n",
        "    final_icp = generate_final_icp_summary(customer_summary_input)\n",
        "except Exception as e:\n",
        "    final_icp = \"⚠️ Error generating final ICP conclusion: \" + str(e)\n",
        "\n",
        "display(HTML(\"<h1 style='text-align: center;'>📋 ShopMax | Business Analyst Journal</h1>\"))\n",
        "\n",
        "# Split the agent output into lines:\n",
        "lines = icp_report['text'].split('\\n')\n",
        "\n",
        "for line in lines:\n",
        "    line = line.strip()\n",
        "    if not line:\n",
        "        continue  # skip empty lines\n",
        "\n",
        "    if line.startswith('## Section:'):\n",
        "        section_title = line.replace('## Section:', '').strip()\n",
        "        display(Markdown(f\"<h2 style='color: royalblue;'>🔵 {section_title}</h2>\"))\n",
        "\n",
        "    elif line.startswith('## Chart:'):\n",
        "        chart_name = line.replace('## Chart:', '').strip()\n",
        "\n",
        "        if chart_name == 'plan_distribution':\n",
        "            plot_plan_distribution(df)\n",
        "            insight = generate_graph_insight(\"subscription plan distribution\")\n",
        "            display(Markdown(f\"**🧠 Graph Insight:** {insight}\"))\n",
        "        elif chart_name == 'churn_rate_by_plan':\n",
        "            plot_churn_rate_by_plan(df)\n",
        "            insight = generate_graph_insight(\"churn rate by subscription plan\")\n",
        "            display(Markdown(f\"**🧠 Graph Insight:** {insight}\"))\n",
        "        elif chart_name == 'spend_vs_tenure':\n",
        "            plot_spend_vs_tenure(df)\n",
        "            insight = generate_graph_insight(\"monthly spend vs. tenure\")\n",
        "            display(Markdown(f\"**🧠 Graph Insight:** {insight}\"))\n",
        "        elif chart_name == 'top_countries':\n",
        "            plot_top_countries(df)\n",
        "            insight = generate_graph_insight(\"top countries\")\n",
        "            display(Markdown(f\"**🧠 Graph Insight:** {insight}\"))\n",
        "        # elif chart_name == 'signup_sources':\n",
        "        #     plot_signup_sources(df)\n",
        "        #     insight = generate_graph_insight(\"signup sources\")\n",
        "        #     display(Markdown(f\"**🧠 Graph Insight:** {insight}\"))\n",
        "        # elif chart_name == 'industry_distribution':\n",
        "        #     plot_industry_distribution(df)\n",
        "        #     insight = generate_graph_insight(\"industry distribution\")\n",
        "        #     display(Markdown(f\"**🧠 Graph Insight:** {insight}\"))\n",
        "\n",
        "    else:\n",
        "        display(Markdown(f\"<p style='font-size: 16px;'>{line}</p>\"))\n",
        "\n",
        "display(Markdown(\"<h2 style='color: seagreen;'>🏁 Final Ideal Customer Profile (ICP)</h2>\"))\n",
        "display(Markdown(f\"<p style='font-size: 16px;'>{final_icp}</p>\"))\n",
        "\n",
        "display(Markdown(\"<br><hr><br>\"))\n",
        "display(Markdown(\"\"\"\n",
        "✅ This professional journal summarizes ShopMax's Ideal Customer Profile (ICP).\n",
        "✅ Key findings are supported by visual data analysis and GPT-4o strategic insights.\n",
        "\n",
        "**Thank you for reviewing this Business Analyst Report!** 📈\n",
        "\"\"\"))"
      ],
      "metadata": {
        "colab": {
          "base_uri": "https://localhost:8080/",
          "height": 1000
        },
        "id": "ttU400Mov4WE",
        "outputId": "1fc0c3cb-dbed-4d6c-98f6-afaa3fa83fae"
      },
      "execution_count": 69,
      "outputs": [
        {
          "output_type": "display_data",
          "data": {
            "text/plain": [
              "<IPython.core.display.HTML object>"
            ],
            "text/html": [
              "<h1 style='text-align: center;'>📋 ShopMax | Business Analyst Journal</h1>"
            ]
          },
          "metadata": {}
        },
        {
          "output_type": "display_data",
          "data": {
            "text/plain": [
              "<IPython.core.display.Markdown object>"
            ],
            "text/markdown": "<h2 style='color: royalblue;'>🔵 Subscription Plans</h2>"
          },
          "metadata": {}
        },
        {
          "output_type": "display_data",
          "data": {
            "text/plain": [
              "<IPython.core.display.Markdown object>"
            ],
            "text/markdown": "<p style='font-size: 16px;'>- Basic Plan: 59.9% of customers</p>"
          },
          "metadata": {}
        },
        {
          "output_type": "display_data",
          "data": {
            "text/plain": [
              "<IPython.core.display.Markdown object>"
            ],
            "text/markdown": "<p style='font-size: 16px;'>- Pro Plan: 29.7% of customers</p>"
          },
          "metadata": {}
        },
        {
          "output_type": "display_data",
          "data": {
            "text/plain": [
              "<IPython.core.display.Markdown object>"
            ],
            "text/markdown": "<p style='font-size: 16px;'>- Enterprise Plan: 10.4% of customers</p>"
          },
          "metadata": {}
        },
        {
          "output_type": "display_data",
          "data": {
            "text/plain": [
              "<Figure size 600x600 with 1 Axes>"
            ],
            "image/png": "[encoded data removed]"
          },
          "metadata": {}
        },
        {
          "output_type": "display_data",
          "data": {
            "text/plain": [
              "<IPython.core.display.Markdown object>"
            ],
            "text/markdown": "**🧠 Graph Insight:** A significant portion of subscribers are opting for the Basic plan, indicating a potential opportunity to enhance its features or introduce upsell strategies to transition users to higher-tier plans. Additionally, the Premium plan has a lower adoption rate, suggesting a need to reassess its value proposition or pricing to better attract and retain customers."
          },
          "metadata": {}
        },
        {
          "output_type": "display_data",
          "data": {
            "text/plain": [
              "<IPython.core.display.Markdown object>"
            ],
            "text/markdown": "<h2 style='color: royalblue;'>🔵 Financial Insights</h2>"
          },
          "metadata": {}
        },
        {
          "output_type": "display_data",
          "data": {
            "text/plain": [
              "<IPython.core.display.Markdown object>"
            ],
            "text/markdown": "<p style='font-size: 16px;'>- Average Spend: $72.74</p>"
          },
          "metadata": {}
        },
        {
          "output_type": "display_data",
          "data": {
            "text/plain": [
              "<IPython.core.display.Markdown object>"
            ],
            "text/markdown": "<p style='font-size: 16px;'>- Churn Rate: 6.7%</p>"
          },
          "metadata": {}
        },
        {
          "output_type": "display_data",
          "data": {
            "text/plain": [
              "<Figure size 800x500 with 1 Axes>"
            ],
            "image/png": "[encoded data removed]"
          },
          "metadata": {}
        },
        {
          "output_type": "display_data",
          "data": {
            "text/plain": [
              "<IPython.core.display.Markdown object>"
            ],
            "text/markdown": "**🧠 Graph Insight:** The highest churn rate is observed in the Basic plan, indicating a need to enhance the value proposition or customer experience for entry-level subscribers. The Premium plan maintains the lowest churn rate, suggesting that customers perceive significant value at this tier, which could be leveraged to upsell Basic and Standard plan users. Consider implementing targeted retention strategies for Basic plan users, such as personalized engagement or added features, to reduce churn and increase customer lifetime value."
          },
          "metadata": {}
        },
        {
          "output_type": "display_data",
          "data": {
            "text/plain": [
              "<IPython.core.display.Markdown object>"
            ],
            "text/markdown": "<h2 style='color: royalblue;'>🔵 Customer Tenure</h2>"
          },
          "metadata": {}
        },
        {
          "output_type": "display_data",
          "data": {
            "text/plain": [
              "<IPython.core.display.Markdown object>"
            ],
            "text/markdown": "<p style='font-size: 16px;'>- Average Customer Tenure: 30.9 months</p>"
          },
          "metadata": {}
        },
        {
          "output_type": "display_data",
          "data": {
            "text/plain": [
              "<Figure size 800x600 with 1 Axes>"
            ],
            "image/png": "[encoded data removed]"
          },
          "metadata": {}
        },
        {
          "output_type": "display_data",
          "data": {
            "text/plain": [
              "<IPython.core.display.Markdown object>"
            ],
            "text/markdown": "**🧠 Graph Insight:** Customers with longer tenure tend to have higher monthly spend, indicating that retention strategies could be key in maximizing revenue. Implementing loyalty programs or personalized offers for long-term customers may enhance their spending further. Additionally, analyzing the factors contributing to increased spend over time can inform targeted marketing efforts to replicate this behavior in newer customers."
          },
          "metadata": {}
        },
        {
          "output_type": "display_data",
          "data": {
            "text/plain": [
              "<IPython.core.display.Markdown object>"
            ],
            "text/markdown": "<h2 style='color: royalblue;'>🔵 Geographic Distribution</h2>"
          },
          "metadata": {}
        },
        {
          "output_type": "display_data",
          "data": {
            "text/plain": [
              "<IPython.core.display.Markdown object>"
            ],
            "text/markdown": "<p style='font-size: 16px;'>- UK: 150 customers</p>"
          },
          "metadata": {}
        },
        {
          "output_type": "display_data",
          "data": {
            "text/plain": [
              "<IPython.core.display.Markdown object>"
            ],
            "text/markdown": "<p style='font-size: 16px;'>- Brazil: 147 customers</p>"
          },
          "metadata": {}
        },
        {
          "output_type": "display_data",
          "data": {
            "text/plain": [
              "<IPython.core.display.Markdown object>"
            ],
            "text/markdown": "<p style='font-size: 16px;'>- USA: 145 customers</p>"
          },
          "metadata": {}
        },
        {
          "output_type": "display_data",
          "data": {
            "text/plain": [
              "<IPython.core.display.Markdown object>"
            ],
            "text/markdown": "<p style='font-size: 16px;'>- France: 142 customers</p>"
          },
          "metadata": {}
        },
        {
          "output_type": "display_data",
          "data": {
            "text/plain": [
              "<IPython.core.display.Markdown object>"
            ],
            "text/markdown": "<p style='font-size: 16px;'>- Canada: 141 customers</p>"
          },
          "metadata": {}
        },
        {
          "output_type": "display_data",
          "data": {
            "text/plain": [
              "<Figure size 800x500 with 1 Axes>"
            ],
            "image/png": "[encoded data removed]"
          },
          "metadata": {}
        },
        {
          "output_type": "display_data",
          "data": {
            "text/plain": [
              "<IPython.core.display.Markdown object>"
            ],
            "text/markdown": "**🧠 Graph Insight:** The data indicates that Country A leads in market share, suggesting a strategic focus on expanding operations and marketing efforts there could yield significant returns. Additionally, the rapid growth observed in Country B highlights an emerging opportunity, warranting increased investment in local partnerships and distribution channels to capitalize on this momentum."
          },
          "metadata": {}
        },
        {
          "output_type": "display_data",
          "data": {
            "text/plain": [
              "<IPython.core.display.Markdown object>"
            ],
            "text/markdown": "<h2 style='color: royalblue;'>🔵 Signup Sources</h2>"
          },
          "metadata": {}
        },
        {
          "output_type": "display_data",
          "data": {
            "text/plain": [
              "<IPython.core.display.Markdown object>"
            ],
            "text/markdown": "<p style='font-size: 16px;'>- Partner: 275 customers</p>"
          },
          "metadata": {}
        },
        {
          "output_type": "display_data",
          "data": {
            "text/plain": [
              "<IPython.core.display.Markdown object>"
            ],
            "text/markdown": "<p style='font-size: 16px;'>- Referral: 252 customers</p>"
          },
          "metadata": {}
        },
        {
          "output_type": "display_data",
          "data": {
            "text/plain": [
              "<IPython.core.display.Markdown object>"
            ],
            "text/markdown": "<p style='font-size: 16px;'>- Paid Ads: 241 customers</p>"
          },
          "metadata": {}
        },
        {
          "output_type": "display_data",
          "data": {
            "text/plain": [
              "<IPython.core.display.Markdown object>"
            ],
            "text/markdown": "<h2 style='color: royalblue;'>🔵 Industry Distribution</h2>"
          },
          "metadata": {}
        },
        {
          "output_type": "display_data",
          "data": {
            "text/plain": [
              "<IPython.core.display.Markdown object>"
            ],
            "text/markdown": "<p style='font-size: 16px;'>- Technology: 210 customers</p>"
          },
          "metadata": {}
        },
        {
          "output_type": "display_data",
          "data": {
            "text/plain": [
              "<IPython.core.display.Markdown object>"
            ],
            "text/markdown": "<p style='font-size: 16px;'>- Healthcare: 209 customers</p>"
          },
          "metadata": {}
        },
        {
          "output_type": "display_data",
          "data": {
            "text/plain": [
              "<IPython.core.display.Markdown object>"
            ],
            "text/markdown": "<p style='font-size: 16px;'>- Education: 202 customers</p>"
          },
          "metadata": {}
        },
        {
          "output_type": "display_data",
          "data": {
            "text/plain": [
              "<IPython.core.display.Markdown object>"
            ],
            "text/markdown": "<p style='font-size: 16px;'>- Retail: 191 customers</p>"
          },
          "metadata": {}
        },
        {
          "output_type": "display_data",
          "data": {
            "text/plain": [
              "<IPython.core.display.Markdown object>"
            ],
            "text/markdown": "<p style='font-size: 16px;'>- Finance: 188 customers</p>"
          },
          "metadata": {}
        },
        {
          "output_type": "display_data",
          "data": {
            "text/plain": [
              "<IPython.core.display.Markdown object>"
            ],
            "text/markdown": "<h2 style='color: royalblue;'>🔵 Final Conclusion</h2>"
          },
          "metadata": {}
        },
        {
          "output_type": "display_data",
          "data": {
            "text/plain": [
              "<IPython.core.display.Markdown object>"
            ],
            "text/markdown": "<h2 style='color: seagreen;'>🏁 Final Ideal Customer Profile (ICP)</h2>"
          },
          "metadata": {}
        },
        {
          "output_type": "display_data",
          "data": {
            "text/plain": [
              "<IPython.core.display.Markdown object>"
            ],
            "text/markdown": "<p style='font-size: 16px;'>- **Demographics and Subscription Plan**: The ideal customer for ShopMax is likely to be located in one of the top five countries, particularly the UK, Brazil, or the USA. They are most commonly subscribed to the Basic plan, which constitutes 59.9% of the customer base, but there is significant value in targeting Pro plan users as well, given their substantial representation and potential for upsell to Enterprise.\n\n- **Spending Behavior and Tenure**: The ideal customer spends an average of $72.74 monthly and has a long-term engagement with ShopMax, with an average tenure of 30.9 months. This indicates a preference for customers who demonstrate consistent spending and loyalty over time.\n\n- **Churn Rate**: With a relatively low churn rate of 6.70%, the ideal customer is one who is less likely to switch services, suggesting a focus on retention strategies for existing customers.\n\n- **Signup Sources**: The most effective signup sources are through partners and referrals, which account for a significant portion of new customers. These channels should be prioritized for attracting new customers due to their proven success.\n\n- **Industries**: The top industries where ShopMax's ideal customers are found include Technology, Healthcare, and Education. These sectors should be the primary focus for marketing and sales efforts, as they represent the largest customer segments.\n\n**Strategic Recommendation**: To optimize customer acquisition and retention, ShopMax should focus on strengthening partnerships and referral programs, particularly targeting the Technology, Healthcare, and Education sectors in key markets like the UK, Brazil, and the USA. Additionally, enhancing the value proposition for Pro plan users could facilitate transitions to higher-tier plans, thereby increasing average spend and reducing churn.</p>"
          },
          "metadata": {}
        },
        {
          "output_type": "display_data",
          "data": {
            "text/plain": [
              "<IPython.core.display.Markdown object>"
            ],
            "text/markdown": "<br><hr><br>"
          },
          "metadata": {}
        },
        {
          "output_type": "display_data",
          "data": {
            "text/plain": [
              "<IPython.core.display.Markdown object>"
            ],
            "text/markdown": "\n✅ This professional journal summarizes ShopMax's Ideal Customer Profile (ICP).  \n✅ Key findings are supported by visual data analysis and GPT-4o strategic insights.\n\n**Thank you for reviewing this Business Analyst Report!** 📈\n"
          },
          "metadata": {}
        }
      ]
    },
    {
      "cell_type": "code",
      "source": [],
      "metadata": {
        "id": "08p5BCvzweni"
      },
      "execution_count": null,
      "outputs": []
    }
  ],
  "metadata": {
    "colab": {
      "provenance": []
    },
    "kernelspec": {
      "display_name": "Python 3",
      "name": "python3"
    },
    "language_info": {
      "name": "python"
    }
  },
  "nbformat": 4,
  "nbformat_minor": 0
}